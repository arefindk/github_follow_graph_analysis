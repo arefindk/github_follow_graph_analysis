{
 "cells": [
  {
   "cell_type": "code",
   "execution_count": 1,
   "metadata": {
    "collapsed": false
   },
   "outputs": [],
   "source": [
    "import networkx as nx\n",
    "import matplotlib.pyplot as plt\n",
    "import numpy as np\n",
    "import operator\n",
    "from infomap import infomap\n",
    "from pymongo import MongoClient\n",
    "%matplotlib inline"
   ]
  },
  {
   "cell_type": "code",
   "execution_count": 2,
   "metadata": {
    "collapsed": true
   },
   "outputs": [],
   "source": [
    "filename = \"/Users/arefindk/Desktop/github_merged_pull/follow.graphml\"\n",
    "G = nx.read_graphml(filename)"
   ]
  },
  {
   "cell_type": "code",
   "execution_count": 3,
   "metadata": {
    "collapsed": false
   },
   "outputs": [
    {
     "name": "stdout",
     "output_type": "stream",
     "text": [
      "Nodes  771078\n",
      "Edges  2469419\n"
     ]
    }
   ],
   "source": [
    "print \"Nodes \", G.number_of_nodes()\n",
    "print \"Edges \", G.number_of_edges()"
   ]
  },
  {
   "cell_type": "code",
   "execution_count": 4,
   "metadata": {
    "collapsed": true
   },
   "outputs": [],
   "source": [
    "## Load mongodb\n",
    "client = MongoClient(\"mongodb://localhost:27017/\")\n",
    "db = client.github_follow\n",
    "users = db.users"
   ]
  },
  {
   "cell_type": "code",
   "execution_count": 5,
   "metadata": {
    "collapsed": false
   },
   "outputs": [
    {
     "name": "stdout",
     "output_type": "stream",
     "text": [
      "Remaining  761078\n",
      "Remaining  751078\n",
      "Remaining  741078\n",
      "Remaining  731078\n",
      "Remaining  721078\n",
      "Remaining  711078\n",
      "Remaining  701078\n",
      "Remaining  691078\n",
      "Remaining  681078\n",
      "Remaining  671078\n",
      "Remaining  661078\n",
      "Remaining  651078\n",
      "Remaining  641078\n",
      "Remaining  631078\n",
      "Remaining  621078\n",
      "Remaining  611078\n",
      "Remaining  601078\n",
      "Remaining  591078\n",
      "Remaining  581078\n",
      "Remaining  571078\n",
      "Remaining  561078\n",
      "Remaining  551078\n",
      "Remaining  541078\n",
      "Remaining  531078\n",
      "Remaining  521078\n",
      "Remaining  511078\n",
      "Remaining  501078\n",
      "Remaining  491078\n",
      "Remaining  481078\n",
      "Remaining  471078\n",
      "Remaining  461078\n",
      "Remaining  451078\n",
      "Remaining  441078\n",
      "Remaining  431078\n",
      "Remaining  421078\n",
      "Remaining  411078\n",
      "Remaining  401078\n",
      "Remaining  391078\n",
      "Remaining  381078\n",
      "Remaining  371078\n",
      "Remaining  361078\n",
      "Remaining  351078\n",
      "Remaining  341078\n",
      "Remaining  331078\n",
      "Remaining  321078\n",
      "Remaining  311078\n",
      "Remaining  301078\n",
      "Remaining  291078\n",
      "Remaining  281078\n",
      "Remaining  271078\n",
      "Remaining  261078\n",
      "Remaining  251078\n",
      "Remaining  241078\n",
      "Remaining  231078\n",
      "Remaining  221078\n",
      "Remaining  211078\n",
      "Remaining  201078\n",
      "Remaining  191078\n",
      "Remaining  181078\n",
      "Remaining  171078\n",
      "Remaining  161078\n",
      "Remaining  151078\n",
      "Remaining  141078\n",
      "Remaining  131078\n",
      "Remaining  121078\n",
      "Remaining  111078\n",
      "Remaining  101078\n",
      "Remaining  91078\n",
      "Remaining  81078\n",
      "Remaining  71078\n",
      "Remaining  61078\n",
      "Remaining  51078\n",
      "Remaining  41078\n",
      "Remaining  31078\n",
      "Remaining  21078\n",
      "Remaining  11078\n",
      "Remaining  1078\n"
     ]
    }
   ],
   "source": [
    "## Some lists\n",
    "removedNodes = list()\n",
    "allNodes = G.nodes()\n",
    "numNodes = len(allNodes)\n",
    "count = 0\n",
    "## Getting language attribute of the user\n",
    "for currentNode in allNodes:\n",
    "    ## Finding a user with specific login name from the network\n",
    "    findDoc = {\"login\":currentNode}\n",
    "    result = users.find_one(findDoc)\n",
    "\n",
    "    if not result:\n",
    "        removedNodes.append(currentNode)\n",
    "    else:\n",
    "        nativeLanguage = result['native_language']\n",
    "\n",
    "        if nativeLanguage== None:\n",
    "            removedNodes.append(currentNode)\n",
    "        else:\n",
    "            G.node[currentNode]['lang'] = str(nativeLanguage)\n",
    "            G.node[currentNode]['public_repos'] = int(result['public_repos'])\n",
    "            f = \"%d/%m/%Y %H:%M:%S\"\n",
    "            G.node[currentNode]['created_at'] = result['created_at'].strftime(f)\n",
    "#             if not result['company'] == None:\n",
    "#                 G.node[currentNode]['company'] = str(result['company'])\n",
    "#             else:\n",
    "#                 G.node[currentNode]['company'] = \"\"\n",
    "#             if not result['location'] == None:\n",
    "#                 G.node[currentNode]['location'] = str(result['location'])\n",
    "#             else:\n",
    "#                 G.node[currentNode]['location'] = \"\"\n",
    "            G.node[currentNode]['type'] = str(result['type'])\n",
    "            G.node[currentNode]['latest_followers'] = int(result['followers'])\n",
    "            G.node[currentNode]['latest_followings'] = int(result['following'])\n",
    "    count += 1\n",
    "    if count % 10000 == 0:\n",
    "        print \"Remaining \", numNodes - count"
   ]
  },
  {
   "cell_type": "code",
   "execution_count": 6,
   "metadata": {
    "collapsed": false
   },
   "outputs": [
    {
     "name": "stdout",
     "output_type": "stream",
     "text": [
      "226439\n"
     ]
    }
   ],
   "source": [
    "print len(removedNodes)"
   ]
  },
  {
   "cell_type": "code",
   "execution_count": 7,
   "metadata": {
    "collapsed": true
   },
   "outputs": [],
   "source": [
    "all_nodes_set = set(allNodes)"
   ]
  },
  {
   "cell_type": "code",
   "execution_count": 8,
   "metadata": {
    "collapsed": true
   },
   "outputs": [],
   "source": [
    "removed_nodes_set = set(removedNodes)"
   ]
  },
  {
   "cell_type": "code",
   "execution_count": 9,
   "metadata": {
    "collapsed": true
   },
   "outputs": [],
   "source": [
    "trimmed_node_set = all_nodes_set - removed_nodes_set"
   ]
  },
  {
   "cell_type": "code",
   "execution_count": 10,
   "metadata": {
    "collapsed": false
   },
   "outputs": [
    {
     "data": {
      "text/plain": [
       "544639"
      ]
     },
     "execution_count": 10,
     "metadata": {},
     "output_type": "execute_result"
    }
   ],
   "source": [
    "len(trimmed_node_set)"
   ]
  },
  {
   "cell_type": "code",
   "execution_count": 11,
   "metadata": {
    "collapsed": true
   },
   "outputs": [],
   "source": [
    "trimmed_subgraph = G.subgraph(trimmed_node_set)"
   ]
  },
  {
   "cell_type": "code",
   "execution_count": 12,
   "metadata": {
    "collapsed": false
   },
   "outputs": [
    {
     "name": "stdout",
     "output_type": "stream",
     "text": [
      "544639\n",
      "1835281\n"
     ]
    }
   ],
   "source": [
    "print trimmed_subgraph.number_of_nodes()\n",
    "print trimmed_subgraph.number_of_edges()"
   ]
  },
  {
   "cell_type": "code",
   "execution_count": 13,
   "metadata": {
    "collapsed": false
   },
   "outputs": [
    {
     "name": "stdout",
     "output_type": "stream",
     "text": [
      "239 set(['Mercury', 'Mako', 'TypeScript', 'DCPU-16 ASM', 'PureBasic', 'Objective-C++', 'DTrace', 'Delphi', 'Lean', 'NewLisp', 'Jupyter Notebook', 'Rebol', 'eC', 'Frege', 'Groff', 'AspectJ', 'Brightscript', 'Shell', 'Web Ontology Language', 'AppleScript', 'Eiffel', 'Nix', 'SuperCollider', 'Nginx', 'MTML', 'Opa', 'Elixir', 'SAS', 'Agda', 'Logos', 'D', 'Kotlin', 'J', 'Standard ML', 'Objective-C', 'Batchfile', 'Bison', 'Oz', 'Objective-J', 'NetLinx', 'LoomScript', 'Handlebars', 'Gosu', 'Swift', 'Nemerle', 'Ceylon', 'Smarty', 'Pure Data', 'Arc', 'Brainfuck', 'IGOR Pro', 'APL', 'SQL', 'Go', 'Visual Basic', 'PHP', 'SQF', 'Glyph', 'Coq', 'Java', 'Scala', 'OpenSCAD', 'ApacheConf', 'Makefile', 'BitBake', 'Perl', 'Elm', 'Lua', 'Vue', 'GDScript', 'Verilog', 'Stata', 'Factor', 'Haxe', 'Forth', 'Red', 'COBOL', 'XProc', 'XPages', 'LSL', 'RobotFramework', 'CoffeeScript', 'HTML', 'Awk', 'Lex', 'UnrealScript', 'Idris', 'Ruby', 'LilyPond', 'PLpgSQL', 'Self', 'C', 'AutoHotkey', 'Isabelle', 'VCL', 'Hack', 'Inform 7', 'Logtalk', 'Modelica', 'Boo', 'AutoIt', 'Clojure', 'Rust', 'Prolog', 'CSS', 'SourcePawn', 'CMake', 'HCL', 'AMPL', 'ColdFusion', 'BlitzBasic', 'Liquid', 'Yacc', 'Tcl', 'Xojo', 'BlitzMax', 'PigLatin', 'xBase', 'LLVM', 'Lasso', 'GLSL', 'VHDL', 'Arduino', 'Propeller Spin', 'Gettext Catalog', 'X10', 'IDL', 'ATS', 'Ada', 'Nu', 'DOT', 'RAML', 'Oxygene', 'ASP', 'Assembly', 'Gnuplot', 'FLUX', 'C#', 'Turing', 'Vala', 'Processing', 'Bluespec', 'NSIS', 'NetLogo', 'Cucumber', 'QML', 'LiveScript', 'HaXe', 'SaltStack', 'Protocol Buffer', 'XML', 'Pike', 'Mathematica', 'ooc', 'XSLT', 'XC', 'DIGITAL Command Language', 'Mask', 'Genshi', 'EmberScript', 'TeX', 'LabVIEW', 'R', 'Cuda', 'KRL', 'Scilab', 'Smali', 'PostScript', 'Fancy', 'OCaml', 'Diff', 'ANTLR', 'Pascal', 'F#', 'Puppet', 'GAP', 'ActionScript', 'API Blueprint', 'Ragel in Ruby Host', 'Smalltalk', 'DM', 'Monkey', 'PogoScript', 'Apex', 'Emacs Lisp', 'JavaScript', 'VimL', 'QMake', 'PureScript', 'OpenEdge ABL', 'ABAP', 'Matlab', 'Slash', 'Erlang', 'Pan', 'LookML', 'Eagle', 'Scheme', 'Squirrel', 'SQLPL', 'Python', 'Max', 'Ecl', 'Common Lisp', 'Dart', 'KiCad', 'XQuery', 'Inno Setup', 'Nimrod', 'SystemVerilog', 'Chapel', 'Groovy', 'Dylan', 'Xtend', 'Parrot', 'M', 'Papyrus', 'C++', 'CLIPS', 'FORTRAN', 'CartoCSS', 'Alloy', 'REALbasic', 'PLSQL', 'MoonScript', 'PAWN', 'Crystal', 'Augeas', 'Perl6', 'Julia', 'nesC', 'Bro', 'Haskell', 'NCL', 'Io', 'Game Maker Language', 'Racket', 'AGS Script', 'PowerShell'])\n"
     ]
    }
   ],
   "source": [
    "langs = nx.get_node_attributes(trimmed_subgraph,'lang')\n",
    "lang_set = set(langs.values())\n",
    "print len(lang_set), lang_set"
   ]
  },
  {
   "cell_type": "code",
   "execution_count": 14,
   "metadata": {
    "collapsed": true
   },
   "outputs": [],
   "source": [
    "user_type = nx.get_node_attributes(trimmed_subgraph,'type')"
   ]
  },
  {
   "cell_type": "code",
   "execution_count": 15,
   "metadata": {
    "collapsed": true
   },
   "outputs": [],
   "source": [
    "same_type_of_users = {}\n",
    "for k,v in user_type.iteritems():\n",
    "    same_type_of_users.setdefault(v,[]).append(k)"
   ]
  },
  {
   "cell_type": "code",
   "execution_count": 16,
   "metadata": {
    "collapsed": false
   },
   "outputs": [
    {
     "name": "stdout",
     "output_type": "stream",
     "text": [
      "['Organization', 'User']\n"
     ]
    }
   ],
   "source": [
    "print same_type_of_users.keys()"
   ]
  },
  {
   "cell_type": "code",
   "execution_count": 17,
   "metadata": {
    "collapsed": false
   },
   "outputs": [
    {
     "name": "stdout",
     "output_type": "stream",
     "text": [
      "9374\n"
     ]
    }
   ],
   "source": [
    "users_organization = same_type_of_users['Organization']\n",
    "print len(users_organization)"
   ]
  },
  {
   "cell_type": "code",
   "execution_count": 18,
   "metadata": {
    "collapsed": false
   },
   "outputs": [
    {
     "name": "stdout",
     "output_type": "stream",
     "text": [
      "535265\n"
     ]
    }
   ],
   "source": [
    "users_user = same_type_of_users['User']\n",
    "print len(users_user)"
   ]
  },
  {
   "cell_type": "code",
   "execution_count": 19,
   "metadata": {
    "collapsed": true
   },
   "outputs": [],
   "source": [
    "trimmed_subgraph_users = G.subgraph(users_user)\n",
    "trimmed_subgraph_organizations = G.subgraph(users_organization)"
   ]
  },
  {
   "cell_type": "code",
   "execution_count": 20,
   "metadata": {
    "collapsed": false
   },
   "outputs": [
    {
     "name": "stdout",
     "output_type": "stream",
     "text": [
      "1799964\n"
     ]
    }
   ],
   "source": [
    "print trimmed_subgraph_users.number_of_edges()"
   ]
  },
  {
   "cell_type": "code",
   "execution_count": 21,
   "metadata": {
    "collapsed": false
   },
   "outputs": [
    {
     "name": "stdout",
     "output_type": "stream",
     "text": [
      "75\n"
     ]
    }
   ],
   "source": [
    "print trimmed_subgraph_organizations.number_of_edges()"
   ]
  },
  {
   "cell_type": "code",
   "execution_count": 22,
   "metadata": {
    "collapsed": false
   },
   "outputs": [
    {
     "name": "stdout",
     "output_type": "stream",
     "text": [
      "1005583\n",
      "1005583\n"
     ]
    }
   ],
   "source": [
    "components_G = nx.strongly_connected_components(trimmed_subgraph_users)\n",
    "components_G = sorted(components_G, key = lambda c:len(c), reverse = True)\n",
    "largest_strongly_connected_component = components_G[0]\n",
    "induced_strongly_connected_subgraph = trimmed_subgraph_users.subgraph(largest_strongly_connected_component)\n",
    "print induced_strongly_connected_subgraph.number_of_edges()\n",
    "## Now converting it from a Multi_Di_Graph to a simple Di_Graph\n",
    "induced_strongly_connected_subgraph = nx.DiGraph(induced_strongly_connected_subgraph)\n",
    "print induced_strongly_connected_subgraph.number_of_edges()"
   ]
  },
  {
   "cell_type": "code",
   "execution_count": 23,
   "metadata": {
    "collapsed": true
   },
   "outputs": [],
   "source": [
    "induced_strongly_connected_subgraph_int = nx.convert_node_labels_to_integers(induced_strongly_connected_subgraph, first_label = 0, ordering = 'default', label_attribute = \"login\")"
   ]
  },
  {
   "cell_type": "code",
   "execution_count": 24,
   "metadata": {
    "collapsed": false
   },
   "outputs": [
    {
     "name": "stdout",
     "output_type": "stream",
     "text": [
      "154859\n",
      "154859 1005583\n"
     ]
    }
   ],
   "source": [
    "print len(largest_strongly_connected_component)\n",
    "print induced_strongly_connected_subgraph_int.number_of_nodes(), induced_strongly_connected_subgraph_int.number_of_edges()"
   ]
  },
  {
   "cell_type": "code",
   "execution_count": 25,
   "metadata": {
    "collapsed": true
   },
   "outputs": [],
   "source": [
    "nx.write_graphml(induced_strongly_connected_subgraph_int, \"trimmed_follow_users_strong_int.graphml\")"
   ]
  }
 ],
 "metadata": {
  "kernelspec": {
   "display_name": "Python 2",
   "language": "python",
   "name": "python2"
  },
  "language_info": {
   "codemirror_mode": {
    "name": "ipython",
    "version": 2
   },
   "file_extension": ".py",
   "mimetype": "text/x-python",
   "name": "python",
   "nbconvert_exporter": "python",
   "pygments_lexer": "ipython2",
   "version": "2.7.11"
  }
 },
 "nbformat": 4,
 "nbformat_minor": 0
}
