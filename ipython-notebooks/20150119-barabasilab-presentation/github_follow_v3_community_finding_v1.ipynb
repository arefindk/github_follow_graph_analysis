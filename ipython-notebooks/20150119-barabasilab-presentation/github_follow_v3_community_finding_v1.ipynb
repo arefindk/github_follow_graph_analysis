{
 "cells": [
  {
   "cell_type": "code",
   "execution_count": 6,
   "metadata": {
    "collapsed": true
   },
   "outputs": [],
   "source": [
    "import networkx as nx\n",
    "import matplotlib.pyplot as plt\n",
    "import numpy as np\n",
    "import operator\n",
    "from infomap import infomap\n",
    "import community\n",
    "from pymongo import MongoClient\n",
    "%matplotlib inline"
   ]
  },
  {
   "cell_type": "markdown",
   "metadata": {},
   "source": [
    "Reading the graphml file"
   ]
  },
  {
   "cell_type": "code",
   "execution_count": 3,
   "metadata": {
    "collapsed": true
   },
   "outputs": [],
   "source": [
    "filename = \"/Users/arefindk/Desktop/github_merged_pull/trimmed_follow_users_strong_int.graphml\"\n",
    "G = nx.read_graphml(filename)"
   ]
  },
  {
   "cell_type": "code",
   "execution_count": 7,
   "metadata": {
    "collapsed": true
   },
   "outputs": [],
   "source": [
    "def findCommunities(G,directed = False):\n",
    "    \"\"\"\n",
    "    Partition network with the Infomap algorithm.\n",
    "    Annotates nodes with 'community' id and return number of communities found.\n",
    "    \"\"\"\n",
    "    if directed:\n",
    "        conf = infomap.init(\"--directed\");\n",
    "    else:\n",
    "        conf = infomap.init(\"--undirected\");\n",
    "    # Input data\n",
    "    network = infomap.Network(conf);\n",
    "    # Output data\n",
    "    tree = infomap.HierarchicalNetwork(conf)\n",
    "\n",
    "    print(\"Building network...\")\n",
    "    for e in G.edges_iter():\n",
    "        network.addLink(int(e[0]), int(e[1]))\n",
    "\n",
    "    network.finalizeAndCheckNetwork(True, nx.number_of_nodes(G));\n",
    "\n",
    "    # Cluster network\n",
    "    infomap.run(network, tree);\n",
    "\n",
    "    print(\"Found %d top modules with codelength: %f\" % (tree.numTopModules(), tree.codelength()))\n",
    "\n",
    "    communities = {}\n",
    "    clusterIndexLevel = 1 # 1, 2, ... or -1 for top, second, ... or lowest cluster level\n",
    "    for node in tree.leafIter(clusterIndexLevel):\n",
    "        communities[str(node.originalLeafIndex)] = node.clusterIndex()\n",
    "\n",
    "    nx.set_node_attributes(G, 'infomap_community', communities)\n",
    "    return tree.numTopModules()"
   ]
  },
  {
   "cell_type": "code",
   "execution_count": 8,
   "metadata": {
    "collapsed": false
   },
   "outputs": [
    {
     "name": "stdout",
     "output_type": "stream",
     "text": [
      "Building network...\n",
      "Found 263 top modules with codelength: 9.191734\n"
     ]
    }
   ],
   "source": [
    "numCommunities = findCommunities(G,directed=True)"
   ]
  },
  {
   "cell_type": "code",
   "execution_count": 9,
   "metadata": {
    "collapsed": true
   },
   "outputs": [],
   "source": [
    "ug = G.to_undirected()"
   ]
  },
  {
   "cell_type": "code",
   "execution_count": 10,
   "metadata": {
    "collapsed": true
   },
   "outputs": [],
   "source": [
    "partition = community.best_partition(ug)"
   ]
  },
  {
   "cell_type": "code",
   "execution_count": 13,
   "metadata": {
    "collapsed": false
   },
   "outputs": [
    {
     "name": "stdout",
     "output_type": "stream",
     "text": [
      "229\n"
     ]
    }
   ],
   "source": [
    "print len(set(partition.values()))"
   ]
  },
  {
   "cell_type": "code",
   "execution_count": 14,
   "metadata": {
    "collapsed": true
   },
   "outputs": [],
   "source": [
    "nx.set_node_attributes(G,'louvain_community',partition)"
   ]
  },
  {
   "cell_type": "code",
   "execution_count": 17,
   "metadata": {
    "collapsed": false
   },
   "outputs": [
    {
     "name": "stdout",
     "output_type": "stream",
     "text": [
      "JavaScript 190 9\n",
      "Python 0 15\n",
      "Puppet 177 10\n",
      "CSS 21 13\n",
      "JavaScript 49 25\n",
      "JavaScript 19 25\n",
      "Java 5 25\n",
      "JavaScript 0 8\n",
      "Ruby 34 15\n",
      "Ruby 0 2\n"
     ]
    }
   ],
   "source": [
    "for x in xrange(10):\n",
    "    x = str(x)\n",
    "    print G.node[x]['lang'], G.node[x]['infomap_community'],G.node[x]['louvain_community']"
   ]
  },
  {
   "cell_type": "code",
   "execution_count": 18,
   "metadata": {
    "collapsed": true
   },
   "outputs": [],
   "source": [
    "nx.write_graphml(G,\"trimmed_follow_users_strong_int_with_communities.graphml\")"
   ]
  }
 ],
 "metadata": {
  "kernelspec": {
   "display_name": "Python 2",
   "language": "python",
   "name": "python2"
  },
  "language_info": {
   "codemirror_mode": {
    "name": "ipython",
    "version": 2
   },
   "file_extension": ".py",
   "mimetype": "text/x-python",
   "name": "python",
   "nbconvert_exporter": "python",
   "pygments_lexer": "ipython2",
   "version": "2.7.11"
  }
 },
 "nbformat": 4,
 "nbformat_minor": 0
}
