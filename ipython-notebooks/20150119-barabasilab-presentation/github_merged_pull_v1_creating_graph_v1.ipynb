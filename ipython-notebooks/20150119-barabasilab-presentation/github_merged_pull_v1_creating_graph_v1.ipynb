{
 "cells": [
  {
   "cell_type": "code",
   "execution_count": 1,
   "metadata": {
    "collapsed": false
   },
   "outputs": [],
   "source": [
    "import networkx as nx\n",
    "import matplotlib.pyplot as plt\n",
    "import numpy as np\n",
    "import operator\n",
    "from infomap import infomap\n",
    "from pymongo import MongoClient\n",
    "%matplotlib inline"
   ]
  },
  {
   "cell_type": "code",
   "execution_count": 2,
   "metadata": {
    "collapsed": true
   },
   "outputs": [],
   "source": [
    "filename = \"/Users/arefindk/Desktop/github_merged_pull/merged_pull_multi_noselfloop_digraph_timestamp_lang.graphml\"\n",
    "G = nx.read_graphml(filename)"
   ]
  },
  {
   "cell_type": "code",
   "execution_count": 3,
   "metadata": {
    "collapsed": false
   },
   "outputs": [
    {
     "name": "stdout",
     "output_type": "stream",
     "text": [
      "Nodes  505028\n",
      "Edges  3184242\n"
     ]
    }
   ],
   "source": [
    "print \"Nodes \", G.number_of_nodes()\n",
    "print \"Edges \", G.number_of_edges()"
   ]
  },
  {
   "cell_type": "code",
   "execution_count": 4,
   "metadata": {
    "collapsed": true
   },
   "outputs": [],
   "source": [
    "## Load mongodb\n",
    "client = MongoClient(\"mongodb://localhost:27017/\")\n",
    "db = client.github_follow\n",
    "users = db.users"
   ]
  },
  {
   "cell_type": "code",
   "execution_count": 5,
   "metadata": {
    "collapsed": false
   },
   "outputs": [
    {
     "name": "stdout",
     "output_type": "stream",
     "text": [
      "Remaining  495028\n",
      "Remaining  485028\n",
      "Remaining  475028\n",
      "Remaining  465028\n",
      "Remaining  455028\n",
      "Remaining  445028\n",
      "Remaining  435028\n",
      "Remaining  425028\n",
      "Remaining  415028\n",
      "Remaining  405028\n",
      "Remaining  395028\n",
      "Remaining  385028\n",
      "Remaining  375028\n",
      "Remaining  365028\n",
      "Remaining  355028\n",
      "Remaining  345028\n",
      "Remaining  335028\n",
      "Remaining  325028\n",
      "Remaining  315028\n",
      "Remaining  305028\n",
      "Remaining  295028\n",
      "Remaining  285028\n",
      "Remaining  275028\n",
      "Remaining  265028\n",
      "Remaining  255028\n",
      "Remaining  245028\n",
      "Remaining  235028\n",
      "Remaining  225028\n",
      "Remaining  215028\n",
      "Remaining  205028\n",
      "Remaining  195028\n",
      "Remaining  185028\n",
      "Remaining  175028\n",
      "Remaining  165028\n",
      "Remaining  155028\n",
      "Remaining  145028\n",
      "Remaining  135028\n",
      "Remaining  125028\n",
      "Remaining  115028\n",
      "Remaining  105028\n",
      "Remaining  95028\n",
      "Remaining  85028\n",
      "Remaining  75028\n",
      "Remaining  65028\n",
      "Remaining  55028\n",
      "Remaining  45028\n",
      "Remaining  35028\n",
      "Remaining  25028\n",
      "Remaining  15028\n",
      "Remaining  5028\n"
     ]
    }
   ],
   "source": [
    "## Some lists\n",
    "removedNodes = list()\n",
    "allNodes = G.nodes()\n",
    "numNodes = len(allNodes)\n",
    "count = 0\n",
    "## Getting language attribute of the user\n",
    "for currentNode in allNodes:\n",
    "    ## Finding a user with specific login name from the network\n",
    "    findDoc = {\"login\":currentNode}\n",
    "    result = users.find_one(findDoc)\n",
    "\n",
    "    if not result:\n",
    "        removedNodes.append(currentNode)\n",
    "    else:\n",
    "        nativeLanguage = result['native_language']\n",
    "\n",
    "        if nativeLanguage== None:\n",
    "            removedNodes.append(currentNode)\n",
    "        else:\n",
    "            G.node[currentNode]['lang'] = str(nativeLanguage)\n",
    "            G.node[currentNode]['public_repos'] = int(result['public_repos'])\n",
    "            f = \"%d/%m/%Y %H:%M:%S\"\n",
    "            G.node[currentNode]['created_at'] = result['created_at'].strftime(f)\n",
    "#             if not result['company'] == None:\n",
    "#                 G.node[currentNode]['company'] = str(result['company'])\n",
    "#             else:\n",
    "#                 G.node[currentNode]['company'] = \"\"\n",
    "#             if not result['location'] == None:\n",
    "#                 G.node[currentNode]['location'] = str(result['location'])\n",
    "#             else:\n",
    "#                 G.node[currentNode]['location'] = \"\"\n",
    "            G.node[currentNode]['type'] = str(result['type'])\n",
    "            G.node[currentNode]['latest_followers'] = int(result['followers'])\n",
    "            G.node[currentNode]['latest_followings'] = int(result['following'])\n",
    "    count += 1\n",
    "    if count % 10000 == 0:\n",
    "        print \"Remaining \", numNodes - count"
   ]
  },
  {
   "cell_type": "code",
   "execution_count": 6,
   "metadata": {
    "collapsed": false
   },
   "outputs": [
    {
     "name": "stdout",
     "output_type": "stream",
     "text": [
      "57928\n"
     ]
    }
   ],
   "source": [
    "print len(removedNodes)"
   ]
  },
  {
   "cell_type": "code",
   "execution_count": 7,
   "metadata": {
    "collapsed": true
   },
   "outputs": [],
   "source": [
    "all_nodes_set = set(allNodes)"
   ]
  },
  {
   "cell_type": "code",
   "execution_count": 9,
   "metadata": {
    "collapsed": true
   },
   "outputs": [],
   "source": [
    "removed_nodes_set = set(removedNodes)"
   ]
  },
  {
   "cell_type": "code",
   "execution_count": 10,
   "metadata": {
    "collapsed": true
   },
   "outputs": [],
   "source": [
    "trimmed_node_set = all_nodes_set - removed_nodes_set"
   ]
  },
  {
   "cell_type": "code",
   "execution_count": 11,
   "metadata": {
    "collapsed": false
   },
   "outputs": [
    {
     "data": {
      "text/plain": [
       "447100"
      ]
     },
     "execution_count": 11,
     "metadata": {},
     "output_type": "execute_result"
    }
   ],
   "source": [
    "len(trimmed_node_set)"
   ]
  },
  {
   "cell_type": "code",
   "execution_count": 12,
   "metadata": {
    "collapsed": true
   },
   "outputs": [],
   "source": [
    "trimmed_subgraph = G.subgraph(trimmed_node_set)"
   ]
  },
  {
   "cell_type": "code",
   "execution_count": 16,
   "metadata": {
    "collapsed": false
   },
   "outputs": [
    {
     "name": "stdout",
     "output_type": "stream",
     "text": [
      "447100\n",
      "2817073\n"
     ]
    }
   ],
   "source": [
    "print trimmed_subgraph.number_of_nodes()\n",
    "print trimmed_subgraph.number_of_edges()"
   ]
  },
  {
   "cell_type": "code",
   "execution_count": 18,
   "metadata": {
    "collapsed": false
   },
   "outputs": [
    {
     "name": "stdout",
     "output_type": "stream",
     "text": [
      "239 set(['Mercury', 'Mako', 'TypeScript', 'DCPU-16 ASM', 'PureBasic', 'Objective-C++', 'DTrace', 'Delphi', 'Lean', 'NewLisp', 'Jupyter Notebook', 'Rebol', 'Frege', 'GAP', 'AspectJ', 'Brightscript', 'Shell', 'Web Ontology Language', 'AppleScript', 'Elm', 'Nix', 'SuperCollider', 'Nginx', 'Opa', 'Elixir', 'SAS', 'Agda', 'Logos', 'SMT', 'D', 'ooc', 'Kotlin', 'Standard ML', 'Objective-C', 'Batchfile', 'Bison', 'Oz', 'Mirah', 'Ox', 'Objective-J', 'NetLinx', 'LoomScript', 'Handlebars', 'Gosu', 'Gettext Catalog', 'Swift', 'Ceylon', 'Smarty', 'Pure Data', 'Arc', 'Brainfuck', 'IGOR Pro', 'APL', 'Hack', 'Go', 'Visual Basic', 'PHP', 'Cirru', 'SQF', 'Glyph', 'Groovy', 'Java', 'Scala', 'OpenSCAD', 'ApacheConf', 'Makefile', 'BitBake', 'Perl', 'HCL', 'Lua', 'LLVM', 'GDScript', 'Verilog', 'Stata', 'Factor', 'Haxe', 'Component Pascal', 'Forth', 'Red', 'COBOL', 'Groff', 'XProc', 'LSL', 'eC', 'CoffeeScript', 'HTML', 'Awk', 'UrWeb', 'Lex', 'API Blueprint', 'Idris', 'Ruby', 'LilyPond', 'PLpgSQL', 'Modula-2', 'C', 'AutoHotkey', 'Golo', 'VCL', 'SQL', 'Inform 7', 'BlitzBasic', 'Modelica', 'REALbasic', 'AutoIt', 'Clojure', 'Rust', 'Prolog', 'SourcePawn', 'CMake', 'ColdFusion', 'Liquid', 'Yacc', 'Tcl', 'Logtalk', 'Xojo', 'BlitzMax', 'PigLatin', 'xBase', 'Lasso', 'GLSL', 'Eiffel', 'VHDL', 'Arduino', 'Propeller Spin', 'Boo', 'IDL', 'ATS', 'Ada', 'DOT', 'RAML', 'Oxygene', 'ASP', 'Assembly', 'FLUX', 'C#', 'Turing', 'Vala', 'Processing', 'Bluespec', 'NSIS', 'ChucK', 'NetLogo', 'Cucumber', 'CSS', 'LiveScript', 'HaXe', 'SaltStack', 'Protocol Buffer', 'QML', 'XML', 'Pike', 'Mathematica', 'PAWN', 'XSLT', 'XC', 'J', 'Mask', 'Genshi', 'EmberScript', 'TeX', 'LabVIEW', 'R', 'Cuda', 'Scilab', 'Smali', 'Perl6', 'PostScript', 'OCaml', 'Self', 'Grace', 'ANTLR', 'Pascal', 'F#', 'Puppet', 'ActionScript', 'Diff', 'Ragel in Ruby Host', 'Smalltalk', 'DM', 'Monkey', 'Gnuplot', 'Apex', 'Emacs Lisp', 'HyPhy', 'JavaScript', 'VimL', 'OpenEdge ABL', 'ABAP', 'Matlab', 'Scheme', 'Pan', 'LookML', 'Eagle', 'Erlang', 'Squirrel', 'SQLPL', 'Python', 'Max', 'Ecl', 'Common Lisp', 'Dart', 'KiCad', 'XQuery', 'Haskell', 'Inno Setup', 'Shen', 'Nimrod', 'SystemVerilog', 'Chapel', 'Coq', 'Dylan', 'Xtend', 'Parrot', 'Grammatical Framework', 'DIGITAL Command Language', 'M', 'Papyrus', 'C++', 'CLIPS', 'FORTRAN', 'CartoCSS', 'Alloy', 'PLSQL', 'MoonScript', 'UnrealScript', 'Crystal', 'Augeas', 'PureScript', 'Julia', 'nesC', 'Bro', 'Nemerle', 'NCL', 'Io', 'Game Maker Language', 'Racket', 'AGS Script', 'PowerShell'])\n"
     ]
    }
   ],
   "source": [
    "langs = nx.get_node_attributes(trimmed_subgraph,'lang')\n",
    "lang_set = set(langs.values())\n",
    "print len(lang_set), lang_set"
   ]
  },
  {
   "cell_type": "code",
   "execution_count": 19,
   "metadata": {
    "collapsed": true
   },
   "outputs": [],
   "source": [
    "user_type = nx.get_node_attributes(trimmed_subgraph,'type')"
   ]
  },
  {
   "cell_type": "code",
   "execution_count": 20,
   "metadata": {
    "collapsed": true
   },
   "outputs": [],
   "source": [
    "same_type_of_users = {}\n",
    "for k,v in user_type.iteritems():\n",
    "    same_type_of_users.setdefault(v,[]).append(k)"
   ]
  },
  {
   "cell_type": "code",
   "execution_count": 21,
   "metadata": {
    "collapsed": false
   },
   "outputs": [
    {
     "name": "stdout",
     "output_type": "stream",
     "text": [
      "['Organization', 'User']\n"
     ]
    }
   ],
   "source": [
    "print same_type_of_users.keys()"
   ]
  },
  {
   "cell_type": "code",
   "execution_count": 26,
   "metadata": {
    "collapsed": false
   },
   "outputs": [
    {
     "name": "stdout",
     "output_type": "stream",
     "text": [
      "33314\n"
     ]
    }
   ],
   "source": [
    "users_organization = same_type_of_users['Organization']\n",
    "print len(users_organization)"
   ]
  },
  {
   "cell_type": "code",
   "execution_count": 27,
   "metadata": {
    "collapsed": false
   },
   "outputs": [
    {
     "name": "stdout",
     "output_type": "stream",
     "text": [
      "413786\n"
     ]
    }
   ],
   "source": [
    "users_user = same_type_of_users['User']\n",
    "print len(users_user)"
   ]
  },
  {
   "cell_type": "code",
   "execution_count": 28,
   "metadata": {
    "collapsed": true
   },
   "outputs": [],
   "source": [
    "trimmed_subgraph_users = G.subgraph(users_user)\n",
    "trimmed_subgraph_organizations = G.subgraph(users_organization)"
   ]
  },
  {
   "cell_type": "code",
   "execution_count": 29,
   "metadata": {
    "collapsed": false
   },
   "outputs": [
    {
     "name": "stdout",
     "output_type": "stream",
     "text": [
      "2134332\n"
     ]
    }
   ],
   "source": [
    "print trimmed_subgraph_users.number_of_edges()"
   ]
  },
  {
   "cell_type": "code",
   "execution_count": 30,
   "metadata": {
    "collapsed": false
   },
   "outputs": [
    {
     "name": "stdout",
     "output_type": "stream",
     "text": [
      "1032\n"
     ]
    }
   ],
   "source": [
    "print trimmed_subgraph_organizations.number_of_edges()"
   ]
  },
  {
   "cell_type": "code",
   "execution_count": 41,
   "metadata": {
    "collapsed": false
   },
   "outputs": [
    {
     "name": "stdout",
     "output_type": "stream",
     "text": [
      "941128\n",
      "271305\n"
     ]
    }
   ],
   "source": [
    "components_G = nx.strongly_connected_components(trimmed_subgraph_users)\n",
    "components_G = sorted(components_G, key = lambda c:len(c), reverse = True)\n",
    "largest_strongly_connected_component = components_G[0]\n",
    "induced_strongly_connected_subgraph = trimmed_subgraph_users.subgraph(largest_strongly_connected_component)\n",
    "print induced_strongly_connected_subgraph.number_of_edges()\n",
    "## Now converting it from a Multi_Di_Graph to a simple Di_Graph\n",
    "induced_strongly_connected_subgraph = nx.DiGraph(induced_strongly_connected_subgraph)\n",
    "print induced_strongly_connected_subgraph.number_of_edges()"
   ]
  },
  {
   "cell_type": "code",
   "execution_count": 42,
   "metadata": {
    "collapsed": true
   },
   "outputs": [],
   "source": [
    "induced_strongly_connected_subgraph_int = nx.convert_node_labels_to_integers(induced_strongly_connected_subgraph, first_label = 0, ordering = 'default', label_attribute = \"login\")"
   ]
  },
  {
   "cell_type": "code",
   "execution_count": 44,
   "metadata": {
    "collapsed": false
   },
   "outputs": [
    {
     "name": "stdout",
     "output_type": "stream",
     "text": [
      "55457\n",
      "55457 271305\n"
     ]
    }
   ],
   "source": [
    "print len(largest_strongly_connected_component)\n",
    "print induced_strongly_connected_subgraph_int.number_of_nodes(), induced_strongly_connected_subgraph_int.number_of_edges()"
   ]
  },
  {
   "cell_type": "code",
   "execution_count": 45,
   "metadata": {
    "collapsed": true
   },
   "outputs": [],
   "source": [
    "nx.write_graphml(induced_strongly_connected_subgraph_int, \"trimmed_merged_pull_users_strong_int.graphml\")"
   ]
  }
 ],
 "metadata": {
  "kernelspec": {
   "display_name": "Python 2",
   "language": "python",
   "name": "python2"
  },
  "language_info": {
   "codemirror_mode": {
    "name": "ipython",
    "version": 2
   },
   "file_extension": ".py",
   "mimetype": "text/x-python",
   "name": "python",
   "nbconvert_exporter": "python",
   "pygments_lexer": "ipython2",
   "version": "2.7.11"
  }
 },
 "nbformat": 4,
 "nbformat_minor": 0
}
