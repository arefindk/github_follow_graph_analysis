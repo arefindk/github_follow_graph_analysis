{
 "cells": [
  {
   "cell_type": "code",
   "execution_count": 37,
   "metadata": {
    "collapsed": true
   },
   "outputs": [],
   "source": [
    "import networkx as nx\n",
    "import numpy as np\n",
    "from collections import Counter\n",
    "from collections import defaultdict\n",
    "import math"
   ]
  },
  {
   "cell_type": "code",
   "execution_count": 2,
   "metadata": {
    "collapsed": true
   },
   "outputs": [],
   "source": [
    "filename = \"/Users/arefindk/Desktop/github_merged_pull/trimmed_follow_users_strong_int_with_communities.graphml\"\n",
    "G = nx.read_graphml(filename)"
   ]
  },
  {
   "cell_type": "code",
   "execution_count": 4,
   "metadata": {
    "collapsed": false
   },
   "outputs": [
    {
     "name": "stdout",
     "output_type": "stream",
     "text": [
      "178\n",
      "Counter({u'JavaScript': 39479, u'Python': 22596, u'Ruby': 20471, u'Java': 15755, u'PHP': 12580, u'C': 8732, u'Objective-C': 6345, u'C++': 4515, u'C#': 4283, u'Shell': 2800, u'CSS': 2355, u'Go': 2041, u'HTML': 1210, u'Perl': 1118, u'Scala': 1101, u'Clojure': 858, u'VimL': 852, u'Haskell': 775, u'R': 669, u'CoffeeScript': 598, u'Emacs Lisp': 494, u'Lua': 456, u'Erlang': 436, u'Swift': 392, u'TeX': 363, u'Groovy': 331, u'ActionScript': 287, u'Common Lisp': 180, u'Arduino': 167, u'Puppet': 167, u'Matlab': 167, u'Rust': 165, u'OCaml': 121, u'Haxe': 119, u'F#': 105, u'Processing': 103, u'Elixir': 89, u'Dart': 86, u'ColdFusion': 81, u'Racket': 71, u'D': 66, u'Pascal': 64, u'Julia': 61, u'TypeScript': 60, u'Apex': 60, u'Visual Basic': 57, u'PowerShell': 57, u'Scheme': 55, u'Assembly': 47, u'FORTRAN': 36, u'ApacheConf': 34, u'Logos': 33, u'Makefile': 31, u'ASP': 29, u'Delphi': 23, u'Tcl': 23, u'VHDL': 23, u'Eagle': 23, u'SuperCollider': 20, u'Prolog': 19, u'XQuery': 19, u'Max': 18, u'Standard ML': 16, u'AutoHotkey': 16, u'Coq': 15, u'Vala': 15, u'XML': 15, u'XSLT': 15, u'Pure Data': 14, u'AppleScript': 14, u'Ada': 14, u'Kotlin': 13, u'Verilog': 13, u'Mathematica': 12, u'Smalltalk': 12, u'HaXe': 11, u'Elm': 10, u'Objective-J': 10, u'Agda': 9, u'Perl6': 9, u'Nimrod': 9, u'ooc': 7, u'Jupyter Notebook': 7, u'OpenEdge ABL': 7, u'Groff': 6, u'Nginx': 6, u'SourcePawn': 6, u'CMake': 6, u'Eiffel': 6, u'PostScript': 6, u'KiCad': 6, u'M': 6, u'PureScript': 6, u'Bro': 6, u'Gosu': 5, u'SaltStack': 5, u'Cuda': 5, u'DM': 5, u'Dylan': 5, u'Objective-C++': 4, u'Ceylon': 4, u'Handlebars': 4, u'Nemerle': 4, u'SQF': 4, u'Idris': 4, u'GLSL': 4, u'PAWN': 4, u'DCPU-16 ASM': 3, u'Nix': 3, u'Factor': 3, u'Forth': 3, u'PLpgSQL': 3, u'AutoIt': 3, u'FLUX': 3, u'AGS Script': 3, u'Mercury': 2, u'Mako': 2, u'Rebol': 2, u'Frege': 2, u'Brightscript': 2, u'Web Ontology Language': 2, u'Opa': 2, u'Batchfile': 2, u'OpenSCAD': 2, u'GDScript': 2, u'LSL': 2, u'Awk': 2, u'Modelica': 2, u'Lasso': 2, u'IDL': 2, u'NSIS': 2, u'Cucumber': 2, u'ABAP': 2, u'Liquid': 2, u'CLIPS': 2, u'MoonScript': 2, u'PureBasic': 1, u'NewLisp': 1, u'xBase': 1, u'NetLinx': 1, u'Smarty': 1, u'Arc': 1, u'COBOL': 1, u'Hack': 1, u'HCL': 1, u'eC': 1, u'UnrealScript': 1, u'LilyPond': 1, u'SQL': 1, u'Logtalk': 1, u'Boo': 1, u'Xojo': 1, u'Squirrel': 1, u'ATS': 1, u'DOT': 1, u'Bluespec': 1, u'NetLogo': 1, u'LiveScript': 1, u'Protocol Buffer': 1, u'QML': 1, u'Pike': 1, u'XC': 1, u'J': 1, u'Mask': 1, u'Scilab': 1, u'Smali': 1, u'ANTLR': 1, u'GAP': 1, u'Diff': 1, u'Monkey': 1, u'Gnuplot': 1, u'LookML': 1, u'CartoCSS': 1, u'Alloy': 1, u'PLSQL': 1, u'Crystal': 1, u'nesC': 1, u'Io': 1})\n"
     ]
    }
   ],
   "source": [
    "community_sizes_lang = Counter(nx.get_node_attributes(G,'lang').values())\n",
    "print len(community_sizes_lang)\n",
    "print community_sizes_lang"
   ]
  },
  {
   "cell_type": "code",
   "execution_count": 5,
   "metadata": {
    "collapsed": false
   },
   "outputs": [
    {
     "name": "stdout",
     "output_type": "stream",
     "text": [
      "263\n",
      "Counter({0: 17185, 2: 15408, 12: 6168, 5: 5666, 1: 5485, 7: 5380, 3: 5061, 47: 4028, 4: 3547, 25: 2606, 8: 2532, 13: 2499, 6: 2301, 18: 2232, 22: 2231, 10: 2173, 9: 2042, 32: 1920, 15: 1866, 16: 1810, 28: 1782, 19: 1698, 20: 1654, 14: 1614, 21: 1510, 17: 1314, 11: 1226, 39: 1150, 31: 1019, 26: 1004, 23: 904, 37: 894, 27: 864, 43: 844, 30: 794, 49: 743, 24: 733, 42: 725, 60: 689, 67: 685, 40: 659, 34: 655, 56: 642, 69: 624, 53: 598, 45: 570, 35: 560, 80: 553, 64: 521, 72: 512, 94: 506, 50: 502, 54: 498, 77: 490, 38: 487, 83: 459, 70: 456, 29: 454, 87: 449, 33: 447, 102: 443, 68: 441, 59: 438, 84: 423, 91: 419, 48: 418, 107: 412, 52: 403, 81: 392, 104: 385, 116: 383, 92: 377, 46: 369, 44: 363, 51: 356, 55: 346, 36: 345, 57: 344, 79: 336, 95: 336, 41: 332, 90: 326, 65: 324, 101: 323, 96: 316, 88: 310, 62: 309, 111: 302, 120: 301, 115: 287, 89: 280, 130: 279, 125: 274, 71: 269, 98: 268, 122: 254, 66: 246, 112: 245, 76: 242, 128: 241, 63: 240, 73: 237, 86: 235, 97: 235, 82: 228, 58: 227, 137: 214, 85: 212, 152: 212, 127: 210, 108: 209, 106: 208, 124: 205, 129: 202, 114: 201, 139: 201, 144: 201, 103: 199, 61: 196, 145: 195, 162: 194, 136: 192, 93: 190, 133: 190, 123: 187, 131: 186, 135: 182, 75: 181, 74: 180, 138: 178, 100: 177, 117: 177, 109: 174, 105: 172, 143: 167, 147: 167, 150: 164, 154: 160, 132: 159, 151: 159, 153: 158, 126: 155, 134: 149, 176: 147, 175: 142, 110: 141, 168: 141, 142: 139, 148: 138, 119: 135, 149: 135, 157: 134, 140: 133, 161: 126, 177: 125, 178: 125, 195: 123, 78: 122, 141: 122, 183: 121, 181: 119, 174: 118, 113: 116, 166: 116, 146: 115, 121: 112, 156: 111, 186: 106, 159: 104, 170: 104, 164: 102, 171: 102, 190: 102, 163: 101, 169: 101, 182: 101, 118: 99, 167: 97, 199: 96, 206: 96, 160: 95, 193: 93, 210: 93, 198: 91, 185: 90, 158: 87, 173: 87, 99: 84, 155: 83, 188: 83, 180: 79, 213: 77, 217: 77, 172: 73, 192: 73, 200: 71, 208: 71, 165: 70, 207: 67, 187: 66, 189: 66, 194: 66, 204: 64, 179: 62, 191: 62, 201: 62, 228: 62, 205: 60, 202: 58, 227: 58, 218: 57, 220: 55, 242: 55, 196: 53, 211: 53, 229: 53, 231: 53, 184: 51, 209: 51, 214: 51, 215: 51, 235: 51, 223: 50, 239: 50, 216: 48, 224: 47, 243: 47, 203: 46, 237: 44, 197: 43, 245: 42, 219: 41, 226: 41, 238: 41, 251: 39, 222: 38, 244: 38, 246: 38, 212: 36, 236: 36, 241: 36, 248: 35, 232: 33, 240: 33, 221: 29, 225: 29, 252: 28, 234: 27, 255: 27, 247: 25, 233: 24, 230: 22, 250: 22, 256: 21, 249: 20, 253: 20, 254: 17, 258: 16, 260: 16, 259: 13, 257: 10, 261: 7, 262: 3})\n"
     ]
    }
   ],
   "source": [
    "community_sizes_infomap = Counter(nx.get_node_attributes(G,'infomap_community').values())\n",
    "print len(community_sizes_infomap)\n",
    "print community_sizes_infomap"
   ]
  },
  {
   "cell_type": "code",
   "execution_count": 6,
   "metadata": {
    "collapsed": false
   },
   "outputs": [
    {
     "name": "stdout",
     "output_type": "stream",
     "text": [
      "229\n",
      "Counter({4: 20768, 8: 19672, 15: 15999, 7: 15573, 2: 15534, 10: 13773, 6: 5127, 5: 5061, 9: 4377, 19: 3909, 25: 3764, 3: 2451, 13: 2307, 37: 2144, 23: 2141, 14: 1872, 16: 1751, 24: 1480, 34: 1122, 21: 1116, 42: 975, 12: 973, 51: 878, 32: 793, 27: 791, 38: 720, 20: 685, 46: 635, 18: 594, 39: 535, 31: 507, 30: 486, 11: 484, 41: 484, 36: 461, 26: 426, 0: 358, 35: 357, 17: 309, 52: 296, 50: 278, 63: 277, 22: 256, 49: 163, 29: 115, 91: 112, 61: 88, 28: 63, 60: 61, 76: 58, 40: 45, 56: 43, 77: 40, 1: 36, 64: 34, 67: 32, 83: 32, 53: 31, 58: 25, 92: 24, 96: 24, 115: 24, 141: 24, 47: 21, 65: 21, 95: 21, 45: 18, 88: 18, 174: 18, 125: 17, 33: 16, 44: 16, 104: 16, 107: 16, 119: 16, 162: 16, 43: 15, 161: 15, 73: 14, 99: 14, 128: 14, 146: 14, 209: 14, 100: 13, 101: 13, 120: 13, 57: 12, 109: 12, 124: 12, 133: 12, 158: 12, 71: 11, 80: 11, 90: 11, 144: 11, 155: 11, 190: 11, 98: 10, 111: 10, 112: 10, 139: 10, 142: 10, 160: 10, 165: 10, 180: 10, 194: 10, 195: 10, 68: 9, 87: 9, 117: 9, 121: 9, 138: 9, 156: 9, 164: 9, 167: 9, 54: 8, 69: 8, 102: 8, 114: 8, 130: 8, 134: 8, 148: 8, 166: 8, 176: 8, 183: 8, 193: 8, 48: 7, 59: 7, 70: 7, 74: 7, 75: 7, 82: 7, 85: 7, 89: 7, 129: 7, 132: 7, 137: 7, 145: 7, 152: 7, 163: 7, 175: 7, 177: 7, 181: 7, 187: 7, 191: 7, 203: 7, 206: 7, 212: 7, 222: 7, 223: 7, 78: 6, 86: 6, 94: 6, 103: 6, 108: 6, 116: 6, 118: 6, 122: 6, 126: 6, 135: 6, 151: 6, 153: 6, 159: 6, 182: 6, 185: 6, 188: 6, 196: 6, 202: 6, 214: 6, 55: 5, 66: 5, 72: 5, 81: 5, 84: 5, 93: 5, 105: 5, 106: 5, 123: 5, 131: 5, 140: 5, 143: 5, 149: 5, 186: 5, 198: 5, 204: 5, 215: 5, 218: 5, 220: 5, 221: 5, 226: 5, 62: 4, 113: 4, 127: 4, 147: 4, 150: 4, 154: 4, 157: 4, 170: 4, 171: 4, 172: 4, 173: 4, 178: 4, 179: 4, 184: 4, 189: 4, 192: 4, 201: 4, 205: 4, 207: 4, 208: 4, 210: 4, 211: 4, 213: 4, 224: 4, 225: 4, 227: 4, 228: 4, 79: 3, 97: 3, 110: 3, 136: 3, 168: 3, 169: 3, 197: 3, 199: 3, 200: 3, 216: 3, 217: 3, 219: 3})\n"
     ]
    }
   ],
   "source": [
    "community_sizes_louvain = Counter(nx.get_node_attributes(G,'louvain_community').values())\n",
    "print len(community_sizes_louvain)\n",
    "print community_sizes_louvain"
   ]
  },
  {
   "cell_type": "code",
   "execution_count": 8,
   "metadata": {
    "collapsed": false
   },
   "outputs": [],
   "source": [
    "langs = set(nx.get_node_attributes(G,'lang').values())\n",
    "louvains = set(nx.get_node_attributes(G,'louvain_community'))\n",
    "infomaps = set(nx.get_node_attributes(G,'infomap_community'))"
   ]
  },
  {
   "cell_type": "code",
   "execution_count": 15,
   "metadata": {
    "collapsed": false
   },
   "outputs": [
    {
     "name": "stdout",
     "output_type": "stream",
     "text": [
      "10000\n",
      "20000\n",
      "30000\n",
      "40000\n",
      "50000\n",
      "60000\n",
      "70000\n",
      "80000\n",
      "90000\n",
      "100000\n",
      "110000\n",
      "120000\n",
      "130000\n",
      "140000\n",
      "150000\n"
     ]
    }
   ],
   "source": [
    "dict_lang_infomap = defaultdict(list)\n",
    "dict_lang_louvain = defaultdict(list)\n",
    "dict_louvain_infomap = defaultdict(list)\n",
    "node_count = 0\n",
    "for node in G.nodes():\n",
    "    current_lang = str(G.node[node]['lang'])\n",
    "    current_infomap = G.node[node]['infomap_community']\n",
    "    current_louvain = G.node[node]['louvain_community']\n",
    "    #print current_lang, current_infomap, current_louvain\n",
    "    \n",
    "    dict_lang_infomap[(current_lang,current_infomap)].append(node)\n",
    "\n",
    "    dict_lang_louvain[(current_lang,current_louvain)].append(node)\n",
    "        \n",
    "    dict_louvain_infomap[(current_louvain,current_infomap)].append(node)\n",
    "    \n",
    "    node_count +=1\n",
    "    if node_count%10000 == 0:\n",
    "        print node_count"
   ]
  },
  {
   "cell_type": "code",
   "execution_count": 17,
   "metadata": {
    "collapsed": true
   },
   "outputs": [],
   "source": [
    "comb_sizes_lang_louvain = list()\n",
    "for list_nodes in dict_lang_louvain.values():\n",
    "    comb_sizes_lang_louvain.append(len(list_nodes))"
   ]
  },
  {
   "cell_type": "code",
   "execution_count": 18,
   "metadata": {
    "collapsed": true
   },
   "outputs": [],
   "source": [
    "comb_sizes_lang_infomap = list()\n",
    "for list_nodes in dict_lang_infomap.values():\n",
    "    comb_sizes_lang_infomap.append(len(list_nodes))"
   ]
  },
  {
   "cell_type": "code",
   "execution_count": 19,
   "metadata": {
    "collapsed": true
   },
   "outputs": [],
   "source": [
    "comb_sizes_louvain_infomap = list()\n",
    "for list_nodes in dict_louvain_infomap.values():\n",
    "    comb_sizes_louvain_infomap.append(len(list_nodes))"
   ]
  },
  {
   "cell_type": "code",
   "execution_count": 29,
   "metadata": {
    "collapsed": false
   },
   "outputs": [
    {
     "data": {
      "text/plain": [
       "1.0000000000000007"
      ]
     },
     "execution_count": 29,
     "metadata": {},
     "output_type": "execute_result"
    }
   ],
   "source": [
    "p_community_sizes_lang = [x/float(G.number_of_nodes()) for x in community_sizes_lang.values()]\n",
    "sum(p_community_sizes_lang)"
   ]
  },
  {
   "cell_type": "code",
   "execution_count": 28,
   "metadata": {
    "collapsed": false
   },
   "outputs": [
    {
     "data": {
      "text/plain": [
       "1.000000000000003"
      ]
     },
     "execution_count": 28,
     "metadata": {},
     "output_type": "execute_result"
    }
   ],
   "source": [
    "p_community_sizes_louvain = [x/float(G.number_of_nodes()) for x in community_sizes_louvain.values()]\n",
    "sum(p_community_sizes_louvain)"
   ]
  },
  {
   "cell_type": "code",
   "execution_count": 22,
   "metadata": {
    "collapsed": false
   },
   "outputs": [
    {
     "data": {
      "text/plain": [
       "0.9999999999999994"
      ]
     },
     "execution_count": 22,
     "metadata": {},
     "output_type": "execute_result"
    }
   ],
   "source": [
    "p_community_sizes_infomap = [x / float(G.number_of_nodes()) for x in community_sizes_infomap.values()]\n",
    "sum(p_community_sizes_infomap)"
   ]
  },
  {
   "cell_type": "code",
   "execution_count": 31,
   "metadata": {
    "collapsed": false
   },
   "outputs": [
    {
     "data": {
      "text/plain": [
       "1.0000000000000304"
      ]
     },
     "execution_count": 31,
     "metadata": {},
     "output_type": "execute_result"
    }
   ],
   "source": [
    "p_comb_sizes_lang_infomap = [x / float(G.number_of_nodes()) for x in comb_sizes_lang_infomap]\n",
    "sum(p_comb_sizes_lang_infomap)"
   ]
  },
  {
   "cell_type": "code",
   "execution_count": 33,
   "metadata": {
    "collapsed": false
   },
   "outputs": [
    {
     "data": {
      "text/plain": [
       "1.0000000000000127"
      ]
     },
     "execution_count": 33,
     "metadata": {},
     "output_type": "execute_result"
    }
   ],
   "source": [
    "p_comb_sizes_lang_louvain = [x / float(G.number_of_nodes()) for x in comb_sizes_lang_louvain]\n",
    "sum(p_comb_sizes_lang_louvain)"
   ]
  },
  {
   "cell_type": "code",
   "execution_count": 34,
   "metadata": {
    "collapsed": false
   },
   "outputs": [
    {
     "data": {
      "text/plain": [
       "1.0000000000000249"
      ]
     },
     "execution_count": 34,
     "metadata": {},
     "output_type": "execute_result"
    }
   ],
   "source": [
    "p_comb_sizes_louvain_infomap = [x / float(G.number_of_nodes()) for x in comb_sizes_louvain_infomap]\n",
    "sum(p_comb_sizes_louvain_infomap)"
   ]
  },
  {
   "cell_type": "code",
   "execution_count": 35,
   "metadata": {
    "collapsed": true
   },
   "outputs": [],
   "source": [
    "def calculate_shannon_entropy(probabilities):\n",
    "    s = 0\n",
    "    for probability in probabilities:\n",
    "        current_value = probability * math.log(probability)\n",
    "        s += current_value\n",
    "    return -s"
   ]
  },
  {
   "cell_type": "code",
   "execution_count": 38,
   "metadata": {
    "collapsed": false
   },
   "outputs": [
    {
     "name": "stdout",
     "output_type": "stream",
     "text": [
      "2.51680778501\n"
     ]
    }
   ],
   "source": [
    "entropy_lang = calculate_shannon_entropy(p_community_sizes_lang)\n",
    "print entropy_lang"
   ]
  },
  {
   "cell_type": "code",
   "execution_count": 39,
   "metadata": {
    "collapsed": false
   },
   "outputs": [
    {
     "name": "stdout",
     "output_type": "stream",
     "text": [
      "4.29824594094\n"
     ]
    }
   ],
   "source": [
    "entropy_infomap = calculate_shannon_entropy(p_community_sizes_infomap)\n",
    "print entropy_infomap"
   ]
  },
  {
   "cell_type": "code",
   "execution_count": 40,
   "metadata": {
    "collapsed": false
   },
   "outputs": [
    {
     "name": "stdout",
     "output_type": "stream",
     "text": [
      "3.00466660006\n"
     ]
    }
   ],
   "source": [
    "entropy_louvain = calculate_shannon_entropy(p_community_sizes_louvain)\n",
    "print entropy_louvain"
   ]
  },
  {
   "cell_type": "code",
   "execution_count": 41,
   "metadata": {
    "collapsed": false
   },
   "outputs": [
    {
     "name": "stdout",
     "output_type": "stream",
     "text": [
      "6.55523974166\n"
     ]
    }
   ],
   "source": [
    "entropy_comb_lang_infomap = calculate_shannon_entropy(p_comb_sizes_lang_infomap)\n",
    "print entropy_comb_lang_infomap"
   ]
  },
  {
   "cell_type": "code",
   "execution_count": 42,
   "metadata": {
    "collapsed": false
   },
   "outputs": [
    {
     "name": "stdout",
     "output_type": "stream",
     "text": [
      "5.28114382618\n"
     ]
    }
   ],
   "source": [
    "entropy_comb_lang_louvain = calculate_shannon_entropy(p_comb_sizes_lang_louvain)\n",
    "print entropy_comb_lang_louvain"
   ]
  },
  {
   "cell_type": "code",
   "execution_count": 43,
   "metadata": {
    "collapsed": false
   },
   "outputs": [
    {
     "name": "stdout",
     "output_type": "stream",
     "text": [
      "6.12836348115\n"
     ]
    }
   ],
   "source": [
    "entropy_comb_louvain_infomap = calculate_shannon_entropy(p_comb_sizes_louvain_infomap)\n",
    "print entropy_comb_louvain_infomap"
   ]
  },
  {
   "cell_type": "code",
   "execution_count": 45,
   "metadata": {
    "collapsed": false
   },
   "outputs": [
    {
     "name": "stdout",
     "output_type": "stream",
     "text": [
      "0.259813984289\n",
      "0.0762470832179\n"
     ]
    }
   ],
   "source": [
    "mutual_info_lang_infomap = entropy_lang + entropy_infomap - entropy_comb_lang_infomap \n",
    "print mutual_info_lang_infomap\n",
    "normalized_mutual_info_lang_infomap = mutual_info_lang_infomap / ((entropy_lang+entropy_infomap)/2)\n",
    "print normalized_mutual_info_lang_infomap"
   ]
  },
  {
   "cell_type": "code",
   "execution_count": 47,
   "metadata": {
    "collapsed": false
   },
   "outputs": [
    {
     "name": "stdout",
     "output_type": "stream",
     "text": [
      "0.240330558889\n",
      "0.0870530376954\n"
     ]
    }
   ],
   "source": [
    "mutual_info_lang_louvain = entropy_lang + entropy_louvain - entropy_comb_lang_louvain \n",
    "print mutual_info_lang_louvain\n",
    "normalized_mutual_info_lang_louvain = mutual_info_lang_louvain / ((entropy_lang+entropy_louvain)/2)\n",
    "print normalized_mutual_info_lang_louvain"
   ]
  },
  {
   "cell_type": "code",
   "execution_count": 48,
   "metadata": {
    "collapsed": false
   },
   "outputs": [
    {
     "name": "stdout",
     "output_type": "stream",
     "text": [
      "1.17454905986\n",
      "0.321665925276\n"
     ]
    }
   ],
   "source": [
    "mutual_info_louvain_infomap = entropy_louvain + entropy_infomap - entropy_comb_louvain_infomap \n",
    "print mutual_info_louvain_infomap\n",
    "normalized_mutual_info_louvain_infomap = mutual_info_louvain_infomap / ((entropy_louvain + entropy_infomap) / 2)\n",
    "print normalized_mutual_info_louvain_infomap"
   ]
  }
 ],
 "metadata": {
  "kernelspec": {
   "display_name": "Python 2",
   "language": "python",
   "name": "python2"
  },
  "language_info": {
   "codemirror_mode": {
    "name": "ipython",
    "version": 2
   },
   "file_extension": ".py",
   "mimetype": "text/x-python",
   "name": "python",
   "nbconvert_exporter": "python",
   "pygments_lexer": "ipython2",
   "version": "2.7.11"
  }
 },
 "nbformat": 4,
 "nbformat_minor": 0
}
