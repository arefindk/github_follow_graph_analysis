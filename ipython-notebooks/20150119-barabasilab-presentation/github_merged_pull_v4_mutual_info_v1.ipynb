{
 "cells": [
  {
   "cell_type": "code",
   "execution_count": 2,
   "metadata": {
    "collapsed": true
   },
   "outputs": [],
   "source": [
    "import networkx as nx\n",
    "import numpy as np\n",
    "from collections import Counter\n",
    "from collections import defaultdict\n",
    "import math"
   ]
  },
  {
   "cell_type": "code",
   "execution_count": 4,
   "metadata": {
    "collapsed": false
   },
   "outputs": [],
   "source": [
    "filename = \"/Users/arefindk/Desktop/github_merged_pull/trimmed_merged_pull_users_strong_int_with_communities.graphml\"\n",
    "G = nx.read_graphml(filename)"
   ]
  },
  {
   "cell_type": "code",
   "execution_count": 5,
   "metadata": {
    "collapsed": false
   },
   "outputs": [
    {
     "name": "stdout",
     "output_type": "stream",
     "text": [
      "136\n",
      "Counter({u'JavaScript': 13512, u'Python': 9246, u'Ruby': 8627, u'PHP': 4672, u'Java': 4435, u'C': 2124, u'C++': 1630, u'Objective-C': 1374, u'C#': 1342, u'Go': 1196, u'Shell': 763, u'Perl': 750, u'Scala': 622, u'Haskell': 557, u'Clojure': 521, u'CSS': 481, u'Emacs Lisp': 289, u'R': 250, u'Erlang': 241, u'Lua': 236, u'Rust': 213, u'VimL': 195, u'CoffeeScript': 194, u'Groovy': 190, u'HTML': 180, u'Puppet': 130, u'OCaml': 124, u'Julia': 100, u'DM': 87, u'Common Lisp': 86, u'Swift': 84, u'D': 83, u'F#': 82, u'Dart': 81, u'TeX': 76, u'Haxe': 66, u'Elixir': 59, u'ActionScript': 43, u'ColdFusion': 31, u'Racket': 26, u'PowerShell': 23, u'TypeScript': 22, u'Makefile': 22, u'Scheme': 22, u'Matlab': 21, u'Perl6': 20, u'Arduino': 15, u'Pascal': 15, u'Nimrod': 14, u'Logos': 13, u'XQuery': 13, u'Coq': 12, u'Assembly': 11, u'FORTRAN': 10, u'Elm': 9, u'Visual Basic': 8, u'Smalltalk': 8, u'Kotlin': 7, u'XSLT': 7, u'Rebol': 6, u'Standard ML': 6, u'SQF': 6, u'Eiffel': 6, u'Vala': 6, u'LiveScript': 6, u'Dylan': 6, u'Ceylon': 5, u'SuperCollider': 5, u'Objective-J': 5, u'ApacheConf': 5, u'ooc': 5, u'GAP': 4, u'OpenSCAD': 4, u'CMake': 4, u'VHDL': 4, u'SaltStack': 4, u'PureScript': 4, u'Web Ontology Language': 3, u'Nix': 3, u'Groff': 3, u'Idris': 3, u'Modelica': 3, u'SourcePawn': 3, u'Xojo': 3, u'Processing': 3, u'XML': 3, u'OpenEdge ABL': 3, u'Eagle': 3, u'Handlebars': 2, u'Pure Data': 2, u'BitBake': 2, u'Factor': 2, u'AutoHotkey': 2, u'Boo': 2, u'Tcl': 2, u'NSIS': 2, u'Monkey': 2, u'Apex': 2, u'Pan': 2, u'Max': 2, u'KiCad': 2, u'MoonScript': 2, u'Augeas': 2, u'DCPU-16 ASM': 1, u'PureBasic': 1, u'Self': 1, u'Brightscript': 1, u'AppleScript': 1, u'Opa': 1, u'Agda': 1, u'Batchfile': 1, u'Jupyter Notebook': 1, u'Smarty': 1, u'Arc': 1, u'Brainfuck': 1, u'Hack': 1, u'Forth': 1, u'Red': 1, u'Yacc': 1, u'Mako': 1, u'Propeller Spin': 1, u'Gettext Catalog': 1, u'ATS': 1, u'Ada': 1, u'ChucK': 1, u'Cucumber': 1, u'Protocol Buffer': 1, u'Mathematica': 1, u'XC': 1, u'Smali': 1, u'Gnuplot': 1, u'PLSQL': 1, u'Chapel': 1, u'CartoCSS': 1, u'Crystal': 1, u'Bro': 1})\n"
     ]
    }
   ],
   "source": [
    "community_sizes_lang = Counter(nx.get_node_attributes(G,'lang').values())\n",
    "print len(community_sizes_lang)\n",
    "print community_sizes_lang"
   ]
  },
  {
   "cell_type": "code",
   "execution_count": 6,
   "metadata": {
    "collapsed": false
   },
   "outputs": [
    {
     "name": "stdout",
     "output_type": "stream",
     "text": [
      "93\n",
      "Counter({0: 12609, 1: 11719, 2: 5034, 3: 4277, 5: 3167, 4: 2718, 6: 2310, 7: 1548, 8: 1122, 12: 869, 10: 818, 11: 781, 9: 756, 13: 514, 19: 509, 15: 411, 14: 361, 18: 338, 16: 335, 22: 308, 24: 231, 21: 227, 20: 223, 17: 221, 27: 215, 23: 169, 25: 169, 33: 168, 30: 165, 34: 161, 29: 154, 31: 143, 32: 129, 36: 118, 28: 117, 26: 112, 51: 99, 42: 94, 45: 93, 44: 86, 37: 81, 38: 75, 41: 74, 47: 73, 35: 69, 53: 68, 54: 64, 49: 60, 50: 59, 48: 57, 63: 57, 64: 56, 57: 55, 46: 53, 39: 52, 40: 52, 74: 47, 59: 44, 55: 43, 52: 40, 58: 39, 61: 38, 43: 37, 60: 37, 65: 35, 68: 35, 62: 34, 69: 33, 67: 29, 56: 28, 83: 27, 81: 24, 70: 23, 80: 23, 84: 21, 82: 20, 73: 18, 77: 17, 66: 16, 71: 16, 72: 16, 85: 13, 86: 13, 75: 12, 76: 12, 78: 12, 87: 10, 88: 9, 79: 8, 89: 7, 90: 7, 92: 6, 91: 5})\n"
     ]
    }
   ],
   "source": [
    "community_sizes_infomap = Counter(nx.get_node_attributes(G,'infomap_community').values())\n",
    "print len(community_sizes_infomap)\n",
    "print community_sizes_infomap"
   ]
  },
  {
   "cell_type": "code",
   "execution_count": 7,
   "metadata": {
    "collapsed": false
   },
   "outputs": [
    {
     "name": "stdout",
     "output_type": "stream",
     "text": [
      "74\n",
      "Counter({8: 8281, 2: 7175, 6: 4602, 3: 4110, 1: 3494, 16: 2968, 7: 2572, 18: 2480, 0: 1929, 14: 1887, 17: 1553, 13: 1413, 4: 1394, 5: 1366, 10: 1310, 9: 1161, 22: 707, 11: 578, 15: 536, 21: 425, 31: 402, 24: 376, 34: 350, 25: 335, 27: 309, 37: 265, 20: 259, 28: 243, 12: 233, 23: 224, 26: 216, 19: 195, 39: 179, 32: 168, 43: 163, 35: 155, 33: 153, 38: 153, 36: 148, 40: 144, 30: 120, 29: 96, 45: 73, 49: 70, 48: 61, 44: 46, 41: 36, 51: 36, 52: 34, 42: 26, 55: 26, 59: 22, 47: 21, 57: 18, 53: 14, 56: 14, 46: 12, 60: 12, 61: 12, 62: 12, 66: 10, 68: 10, 54: 8, 50: 7, 67: 7, 58: 6, 63: 6, 64: 5, 70: 5, 71: 5, 73: 5, 65: 4, 72: 4, 69: 3})\n"
     ]
    }
   ],
   "source": [
    "community_sizes_louvain = Counter(nx.get_node_attributes(G,'louvain_community').values())\n",
    "print len(community_sizes_louvain)\n",
    "print community_sizes_louvain"
   ]
  },
  {
   "cell_type": "code",
   "execution_count": 8,
   "metadata": {
    "collapsed": false
   },
   "outputs": [],
   "source": [
    "langs = set(nx.get_node_attributes(G,'lang').values())\n",
    "louvains = set(nx.get_node_attributes(G,'louvain_community'))\n",
    "infomaps = set(nx.get_node_attributes(G,'infomap_community'))"
   ]
  },
  {
   "cell_type": "code",
   "execution_count": 9,
   "metadata": {
    "collapsed": false
   },
   "outputs": [
    {
     "name": "stdout",
     "output_type": "stream",
     "text": [
      "10000\n",
      "20000\n",
      "30000\n",
      "40000\n",
      "50000\n"
     ]
    }
   ],
   "source": [
    "dict_lang_infomap = defaultdict(list)\n",
    "dict_lang_louvain = defaultdict(list)\n",
    "dict_louvain_infomap = defaultdict(list)\n",
    "node_count = 0\n",
    "for node in G.nodes():\n",
    "    current_lang = str(G.node[node]['lang'])\n",
    "    current_infomap = G.node[node]['infomap_community']\n",
    "    current_louvain = G.node[node]['louvain_community']\n",
    "    #print current_lang, current_infomap, current_louvain\n",
    "    \n",
    "    dict_lang_infomap[(current_lang,current_infomap)].append(node)\n",
    "\n",
    "    dict_lang_louvain[(current_lang,current_louvain)].append(node)\n",
    "        \n",
    "    dict_louvain_infomap[(current_louvain,current_infomap)].append(node)\n",
    "    \n",
    "    node_count +=1\n",
    "    if node_count%10000 == 0:\n",
    "        print node_count"
   ]
  },
  {
   "cell_type": "code",
   "execution_count": 10,
   "metadata": {
    "collapsed": true
   },
   "outputs": [],
   "source": [
    "comb_sizes_lang_louvain = list()\n",
    "for list_nodes in dict_lang_louvain.values():\n",
    "    comb_sizes_lang_louvain.append(len(list_nodes))"
   ]
  },
  {
   "cell_type": "code",
   "execution_count": 11,
   "metadata": {
    "collapsed": true
   },
   "outputs": [],
   "source": [
    "comb_sizes_lang_infomap = list()\n",
    "for list_nodes in dict_lang_infomap.values():\n",
    "    comb_sizes_lang_infomap.append(len(list_nodes))"
   ]
  },
  {
   "cell_type": "code",
   "execution_count": 12,
   "metadata": {
    "collapsed": true
   },
   "outputs": [],
   "source": [
    "comb_sizes_louvain_infomap = list()\n",
    "for list_nodes in dict_louvain_infomap.values():\n",
    "    comb_sizes_louvain_infomap.append(len(list_nodes))"
   ]
  },
  {
   "cell_type": "code",
   "execution_count": 13,
   "metadata": {
    "collapsed": false
   },
   "outputs": [
    {
     "data": {
      "text/plain": [
       "1.000000000000001"
      ]
     },
     "execution_count": 13,
     "metadata": {},
     "output_type": "execute_result"
    }
   ],
   "source": [
    "p_community_sizes_lang = [x/float(G.number_of_nodes()) for x in community_sizes_lang.values()]\n",
    "sum(p_community_sizes_lang)"
   ]
  },
  {
   "cell_type": "code",
   "execution_count": 14,
   "metadata": {
    "collapsed": false
   },
   "outputs": [
    {
     "data": {
      "text/plain": [
       "0.9999999999999998"
      ]
     },
     "execution_count": 14,
     "metadata": {},
     "output_type": "execute_result"
    }
   ],
   "source": [
    "p_community_sizes_louvain = [x/float(G.number_of_nodes()) for x in community_sizes_louvain.values()]\n",
    "sum(p_community_sizes_louvain)"
   ]
  },
  {
   "cell_type": "code",
   "execution_count": 15,
   "metadata": {
    "collapsed": false
   },
   "outputs": [
    {
     "data": {
      "text/plain": [
       "1.0000000000000004"
      ]
     },
     "execution_count": 15,
     "metadata": {},
     "output_type": "execute_result"
    }
   ],
   "source": [
    "p_community_sizes_infomap = [x / float(G.number_of_nodes()) for x in community_sizes_infomap.values()]\n",
    "sum(p_community_sizes_infomap)"
   ]
  },
  {
   "cell_type": "code",
   "execution_count": 16,
   "metadata": {
    "collapsed": false
   },
   "outputs": [
    {
     "data": {
      "text/plain": [
       "1.0000000000000113"
      ]
     },
     "execution_count": 16,
     "metadata": {},
     "output_type": "execute_result"
    }
   ],
   "source": [
    "p_comb_sizes_lang_infomap = [x / float(G.number_of_nodes()) for x in comb_sizes_lang_infomap]\n",
    "sum(p_comb_sizes_lang_infomap)"
   ]
  },
  {
   "cell_type": "code",
   "execution_count": 17,
   "metadata": {
    "collapsed": false
   },
   "outputs": [
    {
     "data": {
      "text/plain": [
       "1.0000000000000095"
      ]
     },
     "execution_count": 17,
     "metadata": {},
     "output_type": "execute_result"
    }
   ],
   "source": [
    "p_comb_sizes_lang_louvain = [x / float(G.number_of_nodes()) for x in comb_sizes_lang_louvain]\n",
    "sum(p_comb_sizes_lang_louvain)"
   ]
  },
  {
   "cell_type": "code",
   "execution_count": 18,
   "metadata": {
    "collapsed": false
   },
   "outputs": [
    {
     "data": {
      "text/plain": [
       "1.0000000000000073"
      ]
     },
     "execution_count": 18,
     "metadata": {},
     "output_type": "execute_result"
    }
   ],
   "source": [
    "p_comb_sizes_louvain_infomap = [x / float(G.number_of_nodes()) for x in comb_sizes_louvain_infomap]\n",
    "sum(p_comb_sizes_louvain_infomap)"
   ]
  },
  {
   "cell_type": "code",
   "execution_count": 19,
   "metadata": {
    "collapsed": true
   },
   "outputs": [],
   "source": [
    "def calculate_shannon_entropy(probabilities):\n",
    "    s = 0\n",
    "    for probability in probabilities:\n",
    "        current_value = probability * math.log(probability)\n",
    "        s += current_value\n",
    "    return -s"
   ]
  },
  {
   "cell_type": "code",
   "execution_count": 20,
   "metadata": {
    "collapsed": false
   },
   "outputs": [
    {
     "name": "stdout",
     "output_type": "stream",
     "text": [
      "2.54115983035\n"
     ]
    }
   ],
   "source": [
    "entropy_lang = calculate_shannon_entropy(p_community_sizes_lang)\n",
    "print entropy_lang"
   ]
  },
  {
   "cell_type": "code",
   "execution_count": 21,
   "metadata": {
    "collapsed": false
   },
   "outputs": [
    {
     "name": "stdout",
     "output_type": "stream",
     "text": [
      "2.76123546529\n"
     ]
    }
   ],
   "source": [
    "entropy_infomap = calculate_shannon_entropy(p_community_sizes_infomap)\n",
    "print entropy_infomap"
   ]
  },
  {
   "cell_type": "code",
   "execution_count": 22,
   "metadata": {
    "collapsed": false
   },
   "outputs": [
    {
     "name": "stdout",
     "output_type": "stream",
     "text": [
      "3.09030746824\n"
     ]
    }
   ],
   "source": [
    "entropy_louvain = calculate_shannon_entropy(p_community_sizes_louvain)\n",
    "print entropy_louvain"
   ]
  },
  {
   "cell_type": "code",
   "execution_count": 23,
   "metadata": {
    "collapsed": false
   },
   "outputs": [
    {
     "name": "stdout",
     "output_type": "stream",
     "text": [
      "4.69770079866\n"
     ]
    }
   ],
   "source": [
    "entropy_comb_lang_infomap = calculate_shannon_entropy(p_comb_sizes_lang_infomap)\n",
    "print entropy_comb_lang_infomap"
   ]
  },
  {
   "cell_type": "code",
   "execution_count": 24,
   "metadata": {
    "collapsed": false
   },
   "outputs": [
    {
     "name": "stdout",
     "output_type": "stream",
     "text": [
      "4.78068719254\n"
     ]
    }
   ],
   "source": [
    "entropy_comb_lang_louvain = calculate_shannon_entropy(p_comb_sizes_lang_louvain)\n",
    "print entropy_comb_lang_louvain"
   ]
  },
  {
   "cell_type": "code",
   "execution_count": 25,
   "metadata": {
    "collapsed": false
   },
   "outputs": [
    {
     "name": "stdout",
     "output_type": "stream",
     "text": [
      "4.73836461844\n"
     ]
    }
   ],
   "source": [
    "entropy_comb_louvain_infomap = calculate_shannon_entropy(p_comb_sizes_louvain_infomap)\n",
    "print entropy_comb_louvain_infomap"
   ]
  },
  {
   "cell_type": "code",
   "execution_count": 26,
   "metadata": {
    "collapsed": false
   },
   "outputs": [
    {
     "name": "stdout",
     "output_type": "stream",
     "text": [
      "0.604694496974\n",
      "0.228083521978\n"
     ]
    }
   ],
   "source": [
    "mutual_info_lang_infomap = entropy_lang + entropy_infomap - entropy_comb_lang_infomap \n",
    "print mutual_info_lang_infomap\n",
    "normalized_mutual_info_lang_infomap = mutual_info_lang_infomap / ((entropy_lang+entropy_infomap)/2)\n",
    "print normalized_mutual_info_lang_infomap"
   ]
  },
  {
   "cell_type": "code",
   "execution_count": 27,
   "metadata": {
    "collapsed": false
   },
   "outputs": [
    {
     "name": "stdout",
     "output_type": "stream",
     "text": [
      "0.850780106046\n",
      "0.302152196199\n"
     ]
    }
   ],
   "source": [
    "mutual_info_lang_louvain = entropy_lang + entropy_louvain - entropy_comb_lang_louvain \n",
    "print mutual_info_lang_louvain\n",
    "normalized_mutual_info_lang_louvain = mutual_info_lang_louvain / ((entropy_lang+entropy_louvain)/2)\n",
    "print normalized_mutual_info_lang_louvain"
   ]
  },
  {
   "cell_type": "code",
   "execution_count": 28,
   "metadata": {
    "collapsed": false
   },
   "outputs": [
    {
     "name": "stdout",
     "output_type": "stream",
     "text": [
      "1.11317831509\n",
      "0.380473433327\n"
     ]
    }
   ],
   "source": [
    "mutual_info_louvain_infomap = entropy_louvain + entropy_infomap - entropy_comb_louvain_infomap \n",
    "print mutual_info_louvain_infomap\n",
    "normalized_mutual_info_louvain_infomap = mutual_info_louvain_infomap / ((entropy_louvain + entropy_infomap) / 2)\n",
    "print normalized_mutual_info_louvain_infomap"
   ]
  }
 ],
 "metadata": {
  "kernelspec": {
   "display_name": "Python 2",
   "language": "python",
   "name": "python2"
  },
  "language_info": {
   "codemirror_mode": {
    "name": "ipython",
    "version": 2
   },
   "file_extension": ".py",
   "mimetype": "text/x-python",
   "name": "python",
   "nbconvert_exporter": "python",
   "pygments_lexer": "ipython2",
   "version": "2.7.11"
  }
 },
 "nbformat": 4,
 "nbformat_minor": 0
}
